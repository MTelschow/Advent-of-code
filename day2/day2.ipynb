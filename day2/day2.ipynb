{
 "cells": [
  {
   "cell_type": "code",
   "execution_count": 66,
   "metadata": {},
   "outputs": [
    {
     "name": "stdout",
     "output_type": "stream",
     "text": [
      "2505\n"
     ]
    }
   ],
   "source": [
    "file_path = \"input.txt\"\n",
    "\n",
    "with open(file_path, \"r\") as file:\n",
    "    content = file.read()\n",
    "    content = list(content.split(\"\\n\"))\n",
    "\n",
    "maxRed = 12\n",
    "maxGreen = 13\n",
    "maxBlue = 14\n",
    "\n",
    "sum = 0\n",
    "\n",
    "for line in content:\n",
    "    # Remove Game\n",
    "    withoutGame = line.split(\"Game \")[1:]\n",
    "    # Get Line Number and scores\n",
    "    [lineNum, scores] = withoutGame[0].split(\": \")\n",
    "    # Separate each score\n",
    "    scores = scores.split(\"; \")\n",
    "\n",
    "    # if (lineNum != \"4\"): continue\n",
    "\n",
    "    isValid = True\n",
    "\n",
    "    for round in scores:\n",
    "        draw = round.split(\", \")\n",
    "        for color in draw:\n",
    "            [num, color] = color.split(\" \")\n",
    "            if color == \"red\" and int(num) > maxRed:\n",
    "                isValid = False\n",
    "            if color == \"green\" and int(num) > maxGreen:\n",
    "                isValid = False\n",
    "            if color == \"blue\" and int(num) > maxBlue:\n",
    "                isValid = False\n",
    "            # print(color, num, isValid)\n",
    "\n",
    "    if isValid:\n",
    "        sum += int(lineNum)\n",
    "    # print(scores)\n",
    "\n",
    "print(sum)"
   ]
  },
  {
   "cell_type": "code",
   "execution_count": 83,
   "metadata": {},
   "outputs": [
    {
     "name": "stdout",
     "output_type": "stream",
     "text": [
      "70265\n"
     ]
    }
   ],
   "source": [
    "powerSum = 0\n",
    "\n",
    "for line in content:\n",
    "    # Remove Game\n",
    "    withoutGame = line.split(\"Game \")[1:]\n",
    "    # Get Line Number and scores\n",
    "    [lineNum, scores] = withoutGame[0].split(\": \")\n",
    "    # Separate each score\n",
    "    scores = scores.split(\"; \")\n",
    "\n",
    "    # if lineNum != \"2\":\n",
    "    #     continue\n",
    "    \n",
    "    maxRed = 0\n",
    "    maxGreen = 0\n",
    "    maxBlue = 0\n",
    "\n",
    "    for round in scores:\n",
    "        draw = round.split(\", \")\n",
    "        \n",
    "\n",
    "        for color in draw:\n",
    "            [num, color] = color.split(\" \")\n",
    "            num = int(num)\n",
    "            if (color == \"red\" and maxRed < num):\n",
    "                maxRed = num\n",
    "            if (color == \"green\" and maxGreen < num):\n",
    "                maxGreen = num\n",
    "            if (color == \"blue\" and maxBlue < num):\n",
    "                maxBlue = num\n",
    "\n",
    "    # print(maxRed, maxGreen, maxBlue)\n",
    "    powerSum += maxRed * maxGreen * maxBlue\n",
    "    \n",
    "    # print(powerSum)\n",
    "    \n",
    "print(powerSum)"
   ]
  },
  {
   "cell_type": "code",
   "execution_count": null,
   "metadata": {},
   "outputs": [],
   "source": []
  }
 ],
 "metadata": {
  "kernelspec": {
   "display_name": "Python 3",
   "language": "python",
   "name": "python3"
  },
  "language_info": {
   "codemirror_mode": {
    "name": "ipython",
    "version": 3
   },
   "file_extension": ".py",
   "mimetype": "text/x-python",
   "name": "python",
   "nbconvert_exporter": "python",
   "pygments_lexer": "ipython3",
   "version": "3.9.6"
  }
 },
 "nbformat": 4,
 "nbformat_minor": 2
}
