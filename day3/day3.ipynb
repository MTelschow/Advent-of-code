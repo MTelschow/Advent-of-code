{
 "cells": [
  {
   "cell_type": "code",
   "execution_count": 10,
   "metadata": {},
   "outputs": [
    {
     "data": {
      "text/plain": [
       "530495"
      ]
     },
     "execution_count": 10,
     "metadata": {},
     "output_type": "execute_result"
    }
   ],
   "source": [
    "# Read the input.txt file\n",
    "with open(\"input.txt\", \"r\") as file:\n",
    "    # Read the contents of the file\n",
    "    content = file.read()\n",
    "\n",
    "    # Split the content into lines\n",
    "    lines = content.split(\"\\n\")\n",
    "\n",
    "    # Create a nested list with each character separated\n",
    "    nested_list = [list(line) for line in lines]\n",
    "file.close()\n",
    "\n",
    "\n",
    "# Calculate sum\n",
    "number_sum = 0\n",
    "\n",
    "# Loop over rows\n",
    "for rowIdx, row in enumerate(nested_list):\n",
    "    # Loop over symbols in row\n",
    "\n",
    "    for colIdx, symbol in enumerate(row):\n",
    "        # Skip if not a number\n",
    "        if symbol < \"0\" or symbol > \"9\":\n",
    "            continue\n",
    "        # Skip if not the first digit of a number\n",
    "        if colIdx != 0 and row[colIdx - 1] >= \"0\" and row[colIdx - 1] <= \"9\":\n",
    "            continue\n",
    "\n",
    "        # Get number\n",
    "        currentIdx = colIdx\n",
    "        wholeNumber = \"\"\n",
    "        while (\n",
    "            currentIdx < len(row) and row[currentIdx] >= \"0\" and row[currentIdx] <= \"9\"\n",
    "        ):\n",
    "            wholeNumber += row[currentIdx]\n",
    "            currentIdx += 1\n",
    "\n",
    "        # Get length of number\n",
    "        wholeNumber_length = len(wholeNumber)\n",
    "        # Change number to number\n",
    "        wholeNumber = int(wholeNumber)\n",
    "\n",
    "        # Check for adjacent symbol\n",
    "        hasSymbol = False\n",
    "        for adRowIdx in range(\n",
    "            max(rowIdx - 1, 0), min(rowIdx + 1, len(nested_list) - 1) + 1\n",
    "        ):\n",
    "            for adColIdx in range(\n",
    "                max(colIdx - 1, 0), min(colIdx + wholeNumber_length, len(row) - 1) + 1\n",
    "            ):\n",
    "                currentValueOfCell = nested_list[adRowIdx][adColIdx]\n",
    "                if currentValueOfCell != \".\" and (\n",
    "                    currentValueOfCell < \"0\" or currentValueOfCell > \"9\"\n",
    "                ):\n",
    "                    hasSymbol = True\n",
    "\n",
    "        # If hasSymbol add number\n",
    "        if hasSymbol:\n",
    "            number_sum += wholeNumber\n",
    "\n",
    "number_sum"
   ]
  },
  {
   "cell_type": "code",
   "execution_count": 27,
   "metadata": {},
   "outputs": [
    {
     "data": {
      "text/plain": [
       "80253814"
      ]
     },
     "execution_count": 27,
     "metadata": {},
     "output_type": "execute_result"
    }
   ],
   "source": [
    "# Read the input.txt file\n",
    "with open(\"input.txt\", \"r\") as file:\n",
    "    # Read the contents of the file\n",
    "    content = file.read()\n",
    "\n",
    "    # Split the content into lines\n",
    "    lines = content.split(\"\\n\")\n",
    "\n",
    "    # Create a nested list with each character separated\n",
    "    nested_list = [list(line) for line in lines]\n",
    "file.close()\n",
    "\n",
    "def isNumber(colIdx, row):\n",
    "    return row[colIdx] >= \"0\" and row[colIdx] <= \"9\"\n",
    "\n",
    "def isFirstDigit(colIdx, row):\n",
    "    return colIdx == 0 or not (isNumber(colIdx - 1, row))\n",
    "\n",
    "def getNumber(colIdx, row):\n",
    "        # Get number\n",
    "        currentIdx = colIdx\n",
    "        \n",
    "        # Get first Idx of number\n",
    "        while not isFirstDigit(currentIdx, row):\n",
    "            currentIdx -= 1\n",
    "        \n",
    "        \n",
    "        \n",
    "        wholeNumber = \"\"\n",
    "        while (\n",
    "            currentIdx < len(row) and row[currentIdx] >= \"0\" and row[currentIdx] <= \"9\"\n",
    "        ):\n",
    "            wholeNumber += row[currentIdx]\n",
    "            currentIdx += 1\n",
    "\n",
    "        if (wholeNumber == \"\"): return -1\n",
    "        \n",
    "        # Change number to number\n",
    "        wholeNumber = int(wholeNumber)\n",
    "        return wholeNumber\n",
    "        \n",
    "\n",
    "# Calculate sum\n",
    "gear_sum = 0\n",
    "\n",
    "# Loop over rows\n",
    "for rowIdx, row in enumerate(nested_list):\n",
    "    # Loop over symbols in row\n",
    "    \n",
    "    # if rowIdx != 1: continue\n",
    "\n",
    "    for colIdx, symbol in enumerate(row):\n",
    "        # Skip if not a gear\n",
    "        if symbol != \"*\":\n",
    "            continue\n",
    "\n",
    "\n",
    "        # Check for adjacent symbol\n",
    "        adNumbers = 0\n",
    "        adNumberMultiple = 1\n",
    "        for adRowIdx in range(\n",
    "            max(rowIdx - 1, 0), min(rowIdx + 1, len(nested_list) - 1) + 1\n",
    "        ):\n",
    "            for adColIdx in range(\n",
    "                max(colIdx - 1, 0), min(colIdx + 1, len(row) - 1) + 1\n",
    "            ):\n",
    "                currentValueOfCell = nested_list[adRowIdx][adColIdx]\n",
    "                # Skip if not number\n",
    "                if not isNumber(adColIdx, nested_list[adRowIdx]): continue\n",
    "                \n",
    "                if isFirstDigit(adColIdx, nested_list[adRowIdx]) or adColIdx == colIdx - 1:\n",
    "                    adNumberMultiple *= getNumber(adColIdx, nested_list[adRowIdx])\n",
    "                    adNumbers += 1\n",
    "                \n",
    "                \n",
    "\n",
    "        # If hasSymbol add number\n",
    "        if adNumbers == 2:\n",
    "            gear_sum += adNumberMultiple\n",
    "\n",
    "gear_sum\n"
   ]
  },
  {
   "cell_type": "code",
   "execution_count": 28,
   "metadata": {},
   "outputs": [
    {
     "data": {
      "text/plain": [
       "47391895"
      ]
     },
     "execution_count": 28,
     "metadata": {},
     "output_type": "execute_result"
    }
   ],
   "source": [
    "127645709-80253814 "
   ]
  },
  {
   "cell_type": "code",
   "execution_count": null,
   "metadata": {},
   "outputs": [],
   "source": []
  }
 ],
 "metadata": {
  "kernelspec": {
   "display_name": "Python 3",
   "language": "python",
   "name": "python3"
  },
  "language_info": {
   "codemirror_mode": {
    "name": "ipython",
    "version": 3
   },
   "file_extension": ".py",
   "mimetype": "text/x-python",
   "name": "python",
   "nbconvert_exporter": "python",
   "pygments_lexer": "ipython3",
   "version": "3.9.6"
  }
 },
 "nbformat": 4,
 "nbformat_minor": 2
}
