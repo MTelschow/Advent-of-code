{
 "cells": [
  {
   "cell_type": "code",
   "execution_count": 54,
   "metadata": {},
   "outputs": [
    {
     "data": {
      "text/plain": [
       "21959"
      ]
     },
     "execution_count": 54,
     "metadata": {},
     "output_type": "execute_result"
    }
   ],
   "source": [
    "# Read the input.txt file\n",
    "def readFile(filename=\"input.txt\"):\n",
    "    with open(filename, \"r\") as file:\n",
    "        # Read the contents of the file\n",
    "        content = file.read()\n",
    "\n",
    "        # Split the content into lines\n",
    "        lines = content.split(\"\\n\")\n",
    "        lines = [line for line in lines if line != \"\"]\n",
    "\n",
    "        # Create a nested list with each character separated\n",
    "        # nested_list = [list(line) for line in lines]\n",
    "    file.close()\n",
    "    return lines\n",
    "\n",
    "\n",
    "def getNumberArrays(line):\n",
    "    wining_numbers = line[10:40]\n",
    "    wining_numbers = wining_numbers.split(\" \")\n",
    "    wining_numbers = [int(num) for num in wining_numbers if num != \"\"]\n",
    "\n",
    "    user_numbers = line[41:]\n",
    "    user_numbers = user_numbers.split(\" \")\n",
    "    user_numbers = [int(num) for num in user_numbers if num != \"\"]\n",
    "\n",
    "    return [wining_numbers, user_numbers]\n",
    "\n",
    "\n",
    "def getLineScore(wining_numbers, user_numbers):\n",
    "    matches = 0\n",
    "    wining_pointer = 0\n",
    "    user_pointer = 0\n",
    "    while (wining_pointer < len(wining_numbers) and user_pointer < len(user_numbers)):\n",
    "        currentWinner = wining_numbers[wining_pointer] \n",
    "        currentUser = user_numbers[user_pointer]\n",
    "        \n",
    "        if currentWinner < currentUser: wining_pointer += 1\n",
    "        elif currentWinner > currentUser: user_pointer += 1\n",
    "        elif currentWinner == currentUser:  \n",
    "            matches += 1\n",
    "            wining_pointer += 1\n",
    "            user_pointer += 1\n",
    "    \n",
    "    lineScore = 0 if matches == 0 else 2 ** (matches - 1)\n",
    "    return lineScore\n",
    "\n",
    "\n",
    "def main():\n",
    "    lines = readFile()\n",
    "    \n",
    "    totalScore = 0\n",
    "    \n",
    "    for line in lines:\n",
    "        [wining_numbers, user_numbers] = [sorted(numbers)for numbers in getNumberArrays(line)]\n",
    "        lineScore = getLineScore(wining_numbers, user_numbers)\n",
    "        totalScore += lineScore\n",
    "        \n",
    "    return totalScore\n",
    "    \n",
    "        \n",
    "main()"
   ]
  },
  {
   "cell_type": "code",
   "execution_count": null,
   "metadata": {},
   "outputs": [],
   "source": [
    "21959\n"
   ]
  }
 ],
 "metadata": {
  "kernelspec": {
   "display_name": "Python 3",
   "language": "python",
   "name": "python3"
  },
  "language_info": {
   "codemirror_mode": {
    "name": "ipython",
    "version": 3
   },
   "file_extension": ".py",
   "mimetype": "text/x-python",
   "name": "python",
   "nbconvert_exporter": "python",
   "pygments_lexer": "ipython3",
   "version": "3.9.6"
  }
 },
 "nbformat": 4,
 "nbformat_minor": 2
}
