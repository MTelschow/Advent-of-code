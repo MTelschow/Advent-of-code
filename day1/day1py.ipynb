{
 "cells": [
  {
   "cell_type": "code",
   "execution_count": 2,
   "metadata": {},
   "outputs": [
    {
     "name": "stdout",
     "output_type": "stream",
     "text": [
      "Ergebnis 1:  56042\n",
      "Ergebnis 2:  55358\n"
     ]
    }
   ],
   "source": [
    "file_path = \"input.txt\"\n",
    "\n",
    "with open(file_path, 'r') as file:\n",
    "        content = file.read()\n",
    "        content = list(content.split())\n",
    "        \n",
    "\n",
    "# Teil 1\n",
    "zweite_liste = list()\n",
    "hassliste = list()\n",
    "for element in content:\n",
    "    for char in element:\n",
    "        if char.isdigit():\n",
    "            hassliste.append(char)\n",
    "    zweite_liste.append(int(hassliste[0]+hassliste[-1]))\n",
    "    hassliste = list()\n",
    "erg1 = sum(zweite_liste)\n",
    "\n",
    "\n",
    "# Teil 2\n",
    "zweite_liste = list()\n",
    "hassliste = list()\n",
    "for element in content:\n",
    "    i = 0\n",
    "    for char in element:\n",
    "        if char.isdigit():\n",
    "            hassliste.append(int(char))\n",
    "        elif element[i:i+3] == \"one\":\n",
    "            hassliste.append(1)\n",
    "        elif element[i:i+3] == \"two\":\n",
    "            hassliste.append(2)\n",
    "        elif element[i:i+5] == \"three\":\n",
    "            hassliste.append(3)\n",
    "        elif element[i:i+4] == \"four\":\n",
    "            hassliste.append(4)\n",
    "        elif element[i:i+4] == \"five\":\n",
    "            hassliste.append(5)\n",
    "        elif element[i:i+3] == \"six\":\n",
    "            hassliste.append(6)\n",
    "        elif element[i:i+5] == \"seven\":\n",
    "            hassliste.append(7)\n",
    "        elif element[i:i+5] == \"eight\":\n",
    "            hassliste.append(8)\n",
    "        elif element[i:i+4] == \"nine\":\n",
    "            hassliste.append(9)\n",
    "        else:\n",
    "            pass\n",
    "        i = i + 1\n",
    "    zweite_liste.append(int(str(hassliste[0])+str(hassliste[-1])))\n",
    "    hassliste = list()\n",
    "erg2 = sum(zweite_liste)\n",
    "\n",
    "\n",
    "print(\"Ergebnis 1: \", erg1)\n",
    "print(\"Ergebnis 2: \", erg2)"
   ]
  },
  {
   "cell_type": "code",
   "execution_count": null,
   "metadata": {},
   "outputs": [],
   "source": []
  }
 ],
 "metadata": {
  "kernelspec": {
   "display_name": "Python 3",
   "language": "python",
   "name": "python3"
  },
  "language_info": {
   "codemirror_mode": {
    "name": "ipython",
    "version": 3
   },
   "file_extension": ".py",
   "mimetype": "text/x-python",
   "name": "python",
   "nbconvert_exporter": "python",
   "pygments_lexer": "ipython3",
   "version": "3.9.6"
  }
 },
 "nbformat": 4,
 "nbformat_minor": 2
}
